{
 "cells": [
  {
   "cell_type": "raw",
   "id": "5e1803f7-264a-4606-8e7e-e1120d664d44",
   "metadata": {},
   "source": [
    "---\n",
    "title: \"Deber 1\"\n",
    "format: pdf\n",
    "autor :MARIA BELEN RAURA ANTE\n",
    "---"
   ]
  },
  {
   "cell_type": "markdown",
   "id": "04e93673-0e53-4dba-87be-c922749ca756",
   "metadata": {},
   "source": [
    "## Conjunto de Ejercicios 1\n",
    "\n",
    "**Resuelva los siguientes ejercicios, tome en cuenta que debe mostrar el desarrollo completo del ejercicio.**\n",
    "\n",
    "\n"
   ]
  },
  {
   "cell_type": "raw",
   "id": "26b01f90-9ef5-4afb-825a-9a07353dabd6",
   "metadata": {},
   "source": [
    "## Ejercicio 1\n",
    "Calcule los errores absoluto y relativo en las aproximaciones de 𝑝 por 𝑝*.\n",
    "\n",
    "a. 𝑝= 𝜋, 𝑝∗ = 22/7\n",
    "   \n",
    "\n"
   ]
  },
  {
   "cell_type": "code",
   "execution_count": 38,
   "id": "d93c1abe-3505-48e2-a384-fe6937656612",
   "metadata": {},
   "outputs": [
    {
     "name": "stdout",
     "output_type": "stream",
     "text": [
      "0.0012644892673496777\n",
      "0.0004024994347707008\n",
      "0.04024994347707008 %\n"
     ]
    }
   ],
   "source": [
    "p=math.pi\n",
    "pp=22/7\n",
    "EA=abs(p-pp)\n",
    "print(EA)\n",
    "ER=(EA)/p\n",
    "print(ER)\n",
    "porcentaje =ER*100\n",
    "print(porcentaje ,'%')"
   ]
  },
  {
   "cell_type": "markdown",
   "id": "c3f326cb-56f9-4d54-8880-70a038014770",
   "metadata": {},
   "source": [
    "b. 𝑝 = 𝜋, 𝑝∗ = 3.1416\n",
    "   \n"
   ]
  },
  {
   "cell_type": "code",
   "execution_count": 39,
   "id": "c8721fc8-5194-4b42-a3d6-27e913b1235f",
   "metadata": {
    "scrolled": true
   },
   "outputs": [
    {
     "name": "stdout",
     "output_type": "stream",
     "text": [
      "7.346410206832132e-06\n",
      "2.3384349967961744e-06\n",
      "0.00023384349967961744 %\n"
     ]
    }
   ],
   "source": [
    "p=math.pi\n",
    "pp=3.1416\n",
    "EA=abs(p-pp)\n",
    "print(EA)\n",
    "ER=(EA)/p\n",
    "print(ER)\n",
    "porcentaje =ER*100\n",
    "print(porcentaje ,'%')"
   ]
  },
  {
   "cell_type": "markdown",
   "id": "51ce0897-c765-4a0a-9903-c949974eba57",
   "metadata": {},
   "source": [
    "c. 𝑝 = ℯ, 𝑝∗ = 2.718\t\n",
    "\n"
   ]
  },
  {
   "cell_type": "code",
   "execution_count": 40,
   "id": "7c0c2410-2f9c-4737-a723-ce60e801ae69",
   "metadata": {},
   "outputs": [
    {
     "name": "stdout",
     "output_type": "stream",
     "text": [
      "0.0002818284590451192\n",
      "0.00010367889601972718\n",
      "0.010367889601972718 %\n"
     ]
    }
   ],
   "source": [
    "p=math.e\n",
    "pp=2.718\n",
    "EA=abs(p-pp)\n",
    "print(EA)\n",
    "ER=(EA)/p\n",
    "print(ER)\n",
    "porcentaje =ER*100\n",
    "print(porcentaje ,'%')"
   ]
  },
  {
   "cell_type": "markdown",
   "id": "ad58bc63-6783-45af-9783-cef4edbedbb1",
   "metadata": {},
   "source": [
    "d. 𝑝 = √2, 𝑝∗ = 1.414"
   ]
  },
  {
   "cell_type": "code",
   "execution_count": 41,
   "id": "6a703e9a-cc9b-46f6-b0ff-a11ef99eac19",
   "metadata": {},
   "outputs": [
    {
     "name": "stdout",
     "output_type": "stream",
     "text": [
      "0.00021356237309522186\n",
      "0.00015101140222192286\n",
      "0.015101140222192286 %\n"
     ]
    }
   ],
   "source": [
    "p=math.sqrt(2)\n",
    "pp=1.414\n",
    "EA=abs(p-pp)\n",
    "print(EA)\n",
    "ER=(EA)/p\n",
    "print(ER)\n",
    "porcentaje =ER*100\n",
    "print(porcentaje ,'%')"
   ]
  },
  {
   "cell_type": "markdown",
   "id": "6fad2d6c-c110-41a8-b6b2-889e3962468b",
   "metadata": {},
   "source": [
    "### Ejercicio 2\n",
    "Calcule los errores absoluto y relativo en las aproximaciones de 𝑝 por 𝑝*.\n",
    "\n",
    "a.  𝑝 = ℯ¹⁰, 𝑝∗ = 22000\n",
    "   "
   ]
  },
  {
   "cell_type": "code",
   "execution_count": 42,
   "id": "d8a622c1-853c-497c-be16-553a184f3f16",
   "metadata": {},
   "outputs": [
    {
     "name": "stdout",
     "output_type": "stream",
     "text": [
      "26.465794806703343\n",
      "0.0012015452253326688\n",
      "0.12015452253326687 %\n"
     ]
    }
   ],
   "source": [
    "p=(math.e)**10\n",
    "pp=22000\n",
    "EA=abs(p-pp)\n",
    "print(EA)\n",
    "ER=(EA)/p\n",
    "print(ER)\n",
    "porcentaje =ER*100\n",
    "print(porcentaje ,'%')"
   ]
  },
  {
   "cell_type": "markdown",
   "id": "a86aac2e-a068-4cf0-aab8-27f35bc4383c",
   "metadata": {},
   "source": [
    "b. 𝑝 = 10π, 𝑝∗ = 1400\n"
   ]
  },
  {
   "cell_type": "code",
   "execution_count": 43,
   "id": "602e8315-660a-406b-af74-f38df26533c9",
   "metadata": {
    "scrolled": true
   },
   "outputs": [
    {
     "name": "stdout",
     "output_type": "stream",
     "text": [
      "1368.5840734641022\n",
      "43.5633840657307\n",
      "4356.33840657307 %\n"
     ]
    }
   ],
   "source": [
    "p=math.pi*10\n",
    "pp=1400\n",
    "EA=abs(p-pp)\n",
    "print(EA)\n",
    "ER=(EA)/p\n",
    "print(ER)\n",
    "porcentaje =ER*100\n",
    "print(porcentaje ,'%')"
   ]
  },
  {
   "cell_type": "markdown",
   "id": "2cba543d-5a13-4002-a7b6-c1e49796e0c5",
   "metadata": {},
   "source": [
    "c. 𝑝 = 8!, 𝑝∗ = 39900\n"
   ]
  },
  {
   "cell_type": "code",
   "execution_count": 24,
   "id": "b6de4306-488f-4262-b1ce-e277a898005b",
   "metadata": {},
   "outputs": [
    {
     "name": "stdout",
     "output_type": "stream",
     "text": [
      "420\n",
      "0.010416666666666666\n",
      "1.0416666666666665 %\n"
     ]
    }
   ],
   "source": [
    "p=40320\n",
    "pp=39900\n",
    "EA=abs(p-pp)\n",
    "print(EA)\n",
    "ER=(EA)/p\n",
    "print(ER)\n",
    "porcentaje =ER*100\n",
    "print(porcentaje ,'%')"
   ]
  },
  {
   "cell_type": "markdown",
   "id": "8ef17984-e8d2-4b03-9a4e-60db1a090f7c",
   "metadata": {},
   "source": [
    "d. 𝑝 = 9!, 𝑝∗ = √18𝜋(9/ℯ )9"
   ]
  },
  {
   "cell_type": "code",
   "execution_count": 25,
   "id": "0756c1b8-5b05-4c0d-8a17-10efcf731ea0",
   "metadata": {},
   "outputs": [
    {
     "name": "stdout",
     "output_type": "stream",
     "text": [
      "3343.127158051706\n",
      "0.00921276223008076\n",
      "0.921276223008076 %\n"
     ]
    }
   ],
   "source": [
    "p=362880\n",
    "pp=359536.8728419483\n",
    "EA=abs(p-pp)\n",
    "print(EA)\n",
    "ER=(EA)/p\n",
    "print(ER)\n",
    "porcentaje =ER*100\n",
    "print(porcentaje ,'%')"
   ]
  },
  {
   "cell_type": "markdown",
   "id": "085abba8-c58a-4d18-9ac7-a4c49a928726",
   "metadata": {},
   "source": [
    "### Ejercicio 3\n",
    "Encuentre el intervalo más largo en el que se debe encontrar 𝑝∗ para aproximarse a 𝑝 con error relativo máximo de 10⁻⁴ para cada valor de 𝑝.\n",
    "\n",
    "a.  𝜋\n"
   ]
  },
  {
   "cell_type": "code",
   "execution_count": 33,
   "id": "a6cbc4b6-c10e-4b8b-b060-9bb879228e4d",
   "metadata": {
    "scrolled": true
   },
   "outputs": [
    {
     "name": "stdout",
     "output_type": "stream",
     "text": [
      "[ 3.141278494324434  ,  3.141906812855152 ]\n"
     ]
    }
   ],
   "source": [
    "ER=1/10000\n",
    "p=math.pi\n",
    "#caso 1\n",
    "pp1=p-ER*(abs(p))\n",
    "#caso 2\n",
    "pp2=ER*(abs(p))+p\n",
    "print('[',pp1,' , ',pp2,']')\n"
   ]
  },
  {
   "cell_type": "code",
   "execution_count": null,
   "id": "adccdba2-218b-4678-ae6b-84e4081fd4db",
   "metadata": {},
   "outputs": [],
   "source": [
    "b. ℯ\n"
   ]
  },
  {
   "cell_type": "code",
   "execution_count": 34,
   "id": "3b415e39-a047-4c75-a6f2-e4b11b9a1011",
   "metadata": {},
   "outputs": [
    {
     "name": "stdout",
     "output_type": "stream",
     "text": [
      "[ 2.718010000276199  ,  2.718553656641891 ]\n"
     ]
    }
   ],
   "source": [
    "ER=1/10000\n",
    "p=math.e\n",
    "#caso 1\n",
    "pp1=p-ER*(abs(p))\n",
    "#caso 2\n",
    "pp2=ER*(abs(p))+p\n",
    "print('[',pp1,' , ',pp2,']')"
   ]
  },
  {
   "cell_type": "markdown",
   "id": "67568c2a-b83f-4144-a547-7acb38efcfa1",
   "metadata": {},
   "source": [
    "c. √2 \n"
   ]
  },
  {
   "cell_type": "code",
   "execution_count": 36,
   "id": "74159a53-9f2d-443e-859a-200ff1ec33b2",
   "metadata": {},
   "outputs": [
    {
     "name": "stdout",
     "output_type": "stream",
     "text": [
      "[ 1.4140721410168577  ,  1.4143549837293325 ]\n"
     ]
    }
   ],
   "source": [
    "ER=1/10000\n",
    "p=math.sqrt(2)\n",
    "#caso 1\n",
    "pp1=p-ER*(abs(p))\n",
    "#caso 2\n",
    "pp2=ER*(abs(p))+p\n",
    "print('[',pp1,' , ',pp2,']')"
   ]
  },
  {
   "cell_type": "code",
   "execution_count": null,
   "id": "e83bdb65-2398-4dfc-8c34-b7dd7997aa9f",
   "metadata": {},
   "outputs": [],
   "source": [
    "d. √7\n",
    "   "
   ]
  },
  {
   "cell_type": "code",
   "execution_count": 37,
   "id": "bb37f2b8-7a2c-4d63-9cf5-f9a8f82e1e71",
   "metadata": {},
   "outputs": [
    {
     "name": "stdout",
     "output_type": "stream",
     "text": [
      "[ 2.6454867359334844  ,  2.646015886195697 ]\n"
     ]
    }
   ],
   "source": [
    "ER=1/10000\n",
    "p=math.sqrt(7)\n",
    "#caso 1\n",
    "pp1=p-ER*(abs(p))\n",
    "#caso 2\n",
    "pp2=ER*(abs(p))+p\n",
    "print('[',pp1,' , ',pp2,']')"
   ]
  },
  {
   "cell_type": "markdown",
   "id": "96bddd0f-3e25-403f-96f8-857bbd7917fb",
   "metadata": {},
   "source": [
    "### Ejercicio 4\n",
    "Use la aritmética de redondeo de tres dígitos para realizar lo siguiente. Calcule los errores absoluto y relativo con el valor exacto determinado para por lo menos cinco dígitos.\n",
    "\n",
    "* **a)**  [(13/14) / (5/7)] / (2e-5.4) \n",
    "    \n",
    "\n"
   ]
  },
  {
   "cell_type": "code",
   "execution_count": 48,
   "id": "368add05-d2fe-412f-ac2a-9b9680d03937",
   "metadata": {},
   "outputs": [
    {
     "name": "stdout",
     "output_type": "stream",
     "text": [
      "0.39230130163035426\n",
      "0.011032802852634603\n"
     ]
    }
   ],
   "source": [
    "a=round((13/14),5)\n",
    "aa=round((13/14),3)\n",
    "b=round((5/7),5)\n",
    "bb=round((5/7),3)\n",
    "c=round(((2*math.e)-5.4),5)\n",
    "cc=round(((2*math.e)-5.4),3)\n",
    "abc=(a/b)/c\n",
    "aabbcc=(aa/bb)/cc\n",
    "EA=abs(abc-aabbcc)\n",
    "print(EA)\n",
    "ER=EA/abs(abc)\n",
    "print(ER)\n"
   ]
  },
  {
   "cell_type": "markdown",
   "id": "f213fc4f-0b0e-4e2b-a676-4bc9db09c291",
   "metadata": {},
   "source": [
    "* **b)**  -10π + 6e - 3/61\n"
   ]
  },
  {
   "cell_type": "code",
   "execution_count": 54,
   "id": "1e4f8889-8699-4539-873d-240720c66b32",
   "metadata": {},
   "outputs": [
    {
     "name": "stdout",
     "output_type": "stream",
     "text": [
      "0.0004199999999983106\n",
      "2.7712857842165417e-05\n"
     ]
    }
   ],
   "source": [
    "a=round((-10*math.pi),5)\n",
    "aa=round((-10*math.pi),3)\n",
    "b=round((6*math.e),5)\n",
    "bb=round((6*math.e),3)\n",
    "c=round(((-1*3)/61),5)\n",
    "cc=round(((-1*3)/61),3)\n",
    "abc=a+b+c\n",
    "aabbcc=aa+bb+cc\n",
    "EA=abs(abc-aabbcc)\n",
    "print(EA)\n",
    "ER=EA/abs(abc)\n",
    "print(ER)"
   ]
  },
  {
   "cell_type": "markdown",
   "id": "d7a32f7f-57ae-4912-a802-32263ea5d431",
   "metadata": {},
   "source": [
    "* **c)**  (2/9) * (9/11)\n",
    " \n"
   ]
  },
  {
   "cell_type": "code",
   "execution_count": 55,
   "id": "29601e31-b2d2-4108-bffa-b4312f13be8e",
   "metadata": {},
   "outputs": [
    {
     "name": "stdout",
     "output_type": "stream",
     "text": [
      "0.0002199596000000137\n",
      "0.001209792586327024\n"
     ]
    }
   ],
   "source": [
    "a=round((2/9),5)\n",
    "aa=round((2/9),3)\n",
    "b=round((9/11),5)\n",
    "bb=round((9/11),3)\n",
    "\n",
    "ab=a*b\n",
    "aabb=aa*bb\n",
    "EA=abs(ab-aabb)\n",
    "print(EA)\n",
    "ER=EA/abs(ab)\n",
    "print(ER)"
   ]
  },
  {
   "cell_type": "markdown",
   "id": "174e3274-9ff3-4357-9764-541fa0b5056d",
   "metadata": {},
   "source": [
    "* **d)**  √(13+11) / √(13-11)\n",
    "  \n",
    "    \n"
   ]
  },
  {
   "cell_type": "code",
   "execution_count": 56,
   "id": "69b1cd4c-080f-4e2e-98d2-e711d6326d12",
   "metadata": {},
   "outputs": [
    {
     "name": "stdout",
     "output_type": "stream",
     "text": [
      "0.0005286161584390214\n",
      "0.00015259794027043354\n"
     ]
    }
   ],
   "source": [
    "a=round(math.sqrt(13+11),5)\n",
    "aa=round(math.sqrt(13+11),3)\n",
    "b=round(math.sqrt(13-11),5)\n",
    "bb=round(math.sqrt(13-11),3)\n",
    "\n",
    "ab=a/b\n",
    "aabb=aa/bb\n",
    "EA=abs(ab-aabb)\n",
    "print(EA)\n",
    "ER=EA/abs(ab)\n",
    "print(ER)"
   ]
  },
  {
   "cell_type": "markdown",
   "id": "82a899c0-d0da-4e93-91bf-fe79d8dd61d7",
   "metadata": {},
   "source": [
    "### Ejercicio 5\n",
    " Los primeros tres términos diferentes de cero de la serie de Maclaurin para la función arcotangente son:\n",
    "\n",
    "x - (1/3)x^3 + (1/5)x^5. Calcule los errores absoluto y relativo en las siguientes aproximaciones de π mediante el polinomio en lugar del arcotangente:\n",
    "\n",
    "a. 4[arctan(1/2) + arctan(1/3)]\n",
    "\n",
    "b. 16 arctan(1/5) - 4 arctan(1/239)\n"
   ]
  },
  {
   "cell_type": "code",
   "execution_count": 1,
   "id": "9c293c23-f1c9-4694-8f6e-50e60b03e557",
   "metadata": {},
   "outputs": [
    {
     "name": "stdout",
     "output_type": "stream",
     "text": [
      "Aproximación a usando los primeros 3 términos de la serie de Maclaurin:\n",
      "Valor aproximado de pi: 3.1455761316872426\n",
      "Error absoluto: 0.003983478097449478\n",
      "Error relativo: 0.0012679804598147663\n",
      "\n",
      "Aproximación b usando los primeros 3 términos de la serie de Maclaurin:\n",
      "Valor aproximado de pi: 3.1416210293250346\n",
      "Error absoluto: 2.837573524150372e-05\n",
      "Error relativo: 9.032277055104427e-06\n"
     ]
    }
   ],
   "source": [
    "import math\n",
    "\n",
    "def arctan_approx(x):\n",
    "  return x - (1/3)*x**3 + (1/5)*x**5\n",
    "\n",
    "def approx_pi(formula):\n",
    "  # Evaluar la fórmula dada\n",
    "  approx_pi = eval(formula)\n",
    "  \n",
    "  # Calcular el error absoluto y relativo\n",
    "  error_absoluto = abs(approx_pi - math.pi)\n",
    "  error_relativo = error_absoluto / math.pi\n",
    "  \n",
    "  return approx_pi, error_absoluto, error_relativo\n",
    "\n",
    "# Ejemplo\n",
    "formula_a = \"4*(arctan_approx(1/2) + arctan_approx(1/3))\"\n",
    "formula_b = \"16*arctan_approx(1/5) - 4*arctan_approx(1/239)\"\n",
    "\n",
    "result_a = approx_pi(formula_a)\n",
    "result_b = approx_pi(formula_b)\n",
    "\n",
    "print(\"Aproximación a usando los primeros 3 términos de la serie de Maclaurin:\")\n",
    "print(f\"Valor aproximado de pi: {result_a[0]}\")\n",
    "print(f\"Error absoluto: {result_a[1]}\")\n",
    "print(f\"Error relativo: {result_a[2]}\\n\")\n",
    "\n",
    "print(\"Aproximación b usando los primeros 3 términos de la serie de Maclaurin:\")\n",
    "print(f\"Valor aproximado de pi: {result_b[0]}\")\n",
    "print(f\"Error absoluto: {result_b[1]}\")\n",
    "print(f\"Error relativo: {result_b[2]}\")"
   ]
  },
  {
   "cell_type": "markdown",
   "id": "7c1686cb-d23e-481d-b183-3913479a9670",
   "metadata": {},
   "source": [
    "### Ejercicio 6\n",
    "El número ℯ se puede definir por medio de ℯ = ∑∞ (1/ n!), donde 𝑛! = 𝑛(𝑛 − 1) ⋅⋅⋅ 2 ⋅ 1 para 𝑛 ≠ 0 y\n",
    "n=0           𝑛!\n",
    "0! = 1. Calcule los errores absoluto y relativo en la siguiente aproximación de ℯ:\n",
    "\n",
    "a. Σₙ₌₀⁵ (1/n!)\n",
    "\n"
   ]
  },
  {
   "cell_type": "code",
   "execution_count": 13,
   "id": "f9257286-26e9-4828-9e00-4f411d5889dd",
   "metadata": {},
   "outputs": [
    {
     "name": "stdout",
     "output_type": "stream",
     "text": [
      "0.0016151617923787498\n",
      "0.0005941848175817597\n"
     ]
    }
   ],
   "source": [
    "import math\n",
    "\n",
    "def factorial(n):\n",
    "    if n == 0:\n",
    "        return 1\n",
    "    else:\n",
    "        return n * factorial(n-1)\n",
    "\n",
    "def approximate_e(n):\n",
    "    sum = 0\n",
    "    for i in range(n+1):\n",
    "        sum += 1/factorial(i)\n",
    "    return sum\n",
    "\n",
    "# Calcular la aproximación para n=5 y n=10\n",
    "approx_5 = approximate_e(5)\n",
    "\n",
    "\n",
    "error_abs_5 = abs(approx_5 - math.e)\n",
    "error_rel_5 = error_abs_5 / math.e\n",
    "print(error_abs_5)\n",
    "\n",
    "print(error_rel_5)\n",
    "\n",
    "\n"
   ]
  },
  {
   "cell_type": "markdown",
   "id": "6f1d7c5c-55ab-4446-b653-256f6e9fefc7",
   "metadata": {},
   "source": [
    "b. Σₙ₌₀¹⁰ (1/n!)"
   ]
  },
  {
   "cell_type": "code",
   "execution_count": 12,
   "id": "4897f369-7f60-4e27-8ab2-1e8d505ee4dd",
   "metadata": {},
   "outputs": [
    {
     "name": "stdout",
     "output_type": "stream",
     "text": [
      "2.7312660577649694e-08\n",
      "1.0047766310211053e-08\n"
     ]
    }
   ],
   "source": [
    "\n",
    "approx_10 = approximate_e(10)\n",
    "\n",
    "\n",
    "error_abs_10 = abs(approx_10 - math.e)\n",
    "error_rel_10 = error_abs_10 / math.e\n",
    "print(error_abs_10)\n",
    "print(error_rel_10)"
   ]
  },
  {
   "cell_type": "markdown",
   "id": "839dacde-ecac-4972-81e5-2fd30cb6190e",
   "metadata": {},
   "source": [
    "### Ejercicio 7\n",
    "Suponga que dos puntos(𝑥₀,𝑦₀) y (𝑥₁, 𝑦₁) se encuentran en línea recta con 𝑦₁ ≠ 𝑦₀. Existen dos fórmulas\n",
    "para encontrar la intersección 𝑥 de la línea:\n",
    "\n",
    "𝑥 = x₀y₁–x₁y₀ y 𝑥 = 𝑥₀              y₁–y₀\n",
    "y₁–y₀\n",
    "\n",
    "a. Use los datos (𝑥₀, 𝑦₀) = (1.31,3.24) y (𝑥₁, 𝑦₁) = (1.93,5. 76) y la aritmética de redondeo de tres dígitos para calcular la intersección con 𝑥 de ambas maneras. ¿Cuál método es mejor y por qué?"
   ]
  },
  {
   "cell_type": "code",
   "execution_count": 26,
   "id": "5d07cb2f-94e6-447b-b619-1593fe098051",
   "metadata": {},
   "outputs": [
    {
     "name": "stdout",
     "output_type": "stream",
     "text": [
      "-------------\n",
      "Primer Caso\n",
      "-------------\n",
      "Error abosoluto:  0.00028571428571433355\n",
      "Error relativo:  0.0005434782608696562\n",
      "X:  0.5257142857142857\n",
      "-------------\n",
      "Segundo Caso\n",
      "----------------\n",
      "0.5257142857142858\n",
      "Error abosoluto:  0.0002857142857142225\n",
      "Error relativo:  0.000543478260869445\n",
      "X:  0.5257142857142858\n"
     ]
    }
   ],
   "source": [
    " X0=1.31\n",
    "X1=1.92\n",
    "Y0=3.24\n",
    "Y1=5.76\n",
    "#PRIMER CASO\n",
    " Xp=((X0*Y1)-(X1*Y0))/(Y1-Y0)\n",
    "Xpp=round(Xp,3)\n",
    "EA=abs(Xp-Xpp)\n",
    "print('-------------')\n",
    "\n",
    "print('Primer Caso')\n",
    "print('-------------')\n",
    "\n",
    "print('Error abosoluto: ',EA)\n",
    "ER=EA/abs(Xp)\n",
    "print('Error relativo: ',ER)\n",
    "print('X: ',Xp)\n",
    "#SEGUNDO CASO\n",
    "\n",
    "Xs=X0-(((X1-X0)*Y0)/(Y1-Y0))\n",
    "Xss=round(Xs,3)\n",
    "print('-------------')\n",
    "\n",
    "print('Segundo Caso')\n",
    "print('----------------')\n",
    "\n",
    "\n",
    "print(Xs)\n",
    "EA=abs(Xs-Xss)\n",
    "print('Error abosoluto: ',EA)\n",
    "ER=EA/abs(Xs)\n",
    "print('Error relativo: ',ER)\n",
    "print('X: ',Xs)\n",
    "\n"
   ]
  },
  {
   "cell_type": "markdown",
   "id": "feffbcdd-cee3-454d-8ef8-3fa3092e3207",
   "metadata": {},
   "source": [
    "Si bien ambas ecuaciones son válidas para determinar la intersección en el eje x, la segunda ecuación demostró ser numéricamente más estable, resultando en una menor propagación de errores de redondeo y, por tanto, en una mayor precisión"
   ]
  }
 ],
 "metadata": {
  "kernelspec": {
   "display_name": "Python 3 (ipykernel)",
   "language": "python",
   "name": "python3"
  },
  "language_info": {
   "codemirror_mode": {
    "name": "ipython",
    "version": 3
   },
   "file_extension": ".py",
   "mimetype": "text/x-python",
   "name": "python",
   "nbconvert_exporter": "python",
   "pygments_lexer": "ipython3",
   "version": "3.11.3"
  }
 },
 "nbformat": 4,
 "nbformat_minor": 5
}
