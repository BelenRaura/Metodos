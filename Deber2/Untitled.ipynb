{
 "cells": [
  {
   "cell_type": "markdown",
   "id": "3dad0236-e1ee-4257-b944-d2a16efcd46d",
   "metadata": {},
   "source": [
    "# CONJUNTO DE EJERCICIOS 1.3\n",
    "\n",
    "\n",
    "## 1. Aritmética de corte de tres dígitos\n",
    "\n",
    "Utilice aritmética de corte de tres dígitos para calcular las siguientes sumas. Para cada parte, ¿qué método es más preciso y por qué?\n",
    "\n",
    "### a. \n",
    "\n",
    "\n",
    "$$\n",
    "\\sum_{i=1}^{10} \\frac{1}{i^2} \n",
    "\\\n",
    "     Primero por:   \n",
    "\\[\n",
    "1 + \\frac{1}{4} + \\ldots + \\frac{1}{100} \n",
    "\\]\n",
    "    y luego por:\n",
    "\\[\n",
    "\\frac{1}{100} + \\frac{1}{81} + \\ldots + 1\n",
    "\\$$\n",
    "\n",
    "\n"
   ]
  },
  {
   "cell_type": "code",
   "execution_count": 5,
   "id": "ced340dd-43a9-4949-a410-f0d595678700",
   "metadata": {},
   "outputs": [
    {
     "name": "stdout",
     "output_type": "stream",
     "text": [
      "1.547\n"
     ]
    }
   ],
   "source": [
    "def truncar(valor: float, decimales: int) -> float:\n",
    "    factor = 10 ** decimales\n",
    "    return int(valor * factor) / factor\n",
    "\n",
    "def suma_Uno_mas(n: int) -> float:\n",
    "    primer = 0.0  # Inicializar la suma en 0\n",
    "    for i in range(1, n + 1):  # Iterar desde 1 hasta n\n",
    "        term = truncar(1 / (i ** 2), 3)  # Truncar 1/i^2 a 3 cifras decimales\n",
    "        primer += term  # Sumar el término truncado\n",
    "    return primer  # Devolver la suma\n",
    "\n",
    "a = suma_Uno_mas(10)  \n",
    "print(a)  # Mostrar el resultado\n"
   ]
  },
  {
   "cell_type": "code",
   "execution_count": 6,
   "id": "b4fe2fd4-d196-4c88-9325-2d7a78bc30ad",
   "metadata": {},
   "outputs": [
    {
     "name": "stdout",
     "output_type": "stream",
     "text": [
      "1.547\n"
     ]
    }
   ],
   "source": [
    "def suma_al_reves(n: int) -> float:\n",
    "    suma = 0.0  # Inicializar la suma en 0\n",
    "    for i in range(n, 0, -1):  # Desde n hasta 1\n",
    "        term = truncar(1 / (i ** 2), 3)  # Truncar 1/i^2 a 3 cifras decimales\n",
    "        suma += term  # Sumar el término truncado\n",
    "    return suma  # Devolver la suma\n",
    "\n",
    "resultado = suma_al_reves(10)\n",
    "print(resultado)  # Mostrar el resultado\n"
   ]
  },
  {
   "cell_type": "markdown",
   "id": "cf7a97d3-456d-4592-b1bc-83e5171e5f43",
   "metadata": {},
   "source": [
    "### b. \n",
    "$$\\\n",
    "\\sum_{i=1}^{10} \\frac{1}{i^3}\n",
    "\\]\n",
    "Primero por:\n",
    "\\[\n",
    "1 + \\frac{1}{8} + \\frac{1}{27} + \\ldots + \\frac{1}{1000}\n",
    "\\]\n",
    "y luego por:\n",
    "\\[\n",
    "\\frac{1}{1000} + \\frac{1}{729} + \\ldots + 1\n",
    "\\$$\n"
   ]
  },
  {
   "cell_type": "code",
   "execution_count": 10,
   "id": "c299bfa0-2ffb-46a7-80cd-1a392c2926f7",
   "metadata": {},
   "outputs": [
    {
     "name": "stdout",
     "output_type": "stream",
     "text": [
      "1.1939999999999995\n",
      "1.194\n"
     ]
    }
   ],
   "source": [
    "\n",
    "\n",
    "def suma_Cubica(n: int) -> float:\n",
    "    primer = 0.0  # Inicializar la suma en 0\n",
    "    for i in range(1, n + 1):  # Iterar desde 1 hasta n\n",
    "        term = truncar(1 / (i ** 3), 3)  # Truncar 1/i^2 a 3 cifras decimales\n",
    "        primer += term  # Sumar el término truncado\n",
    "    return primer  # Devolver la suma\n",
    "\n",
    "a = suma_Cubica(10)  \n",
    "print(a)\n",
    "def suma_al_reves(n: int) -> float:\n",
    "    suma = 0.0  # Inicializar la suma en 0\n",
    "    for i in range(n, 0, -1):  # Desde n hasta 1\n",
    "        term = truncar(1 / (i ** 3), 3)  # Truncar 1/i^3 a 3 cifras decimales\n",
    "        suma += term  # Sumar el término truncado\n",
    "    return suma  # Devolver la suma\n",
    "\n",
    "resultado = suma_al_reves(10)\n",
    "print(resultado)  # Mostrar el resultado\n",
    "\n"
   ]
  },
  {
   "cell_type": "markdown",
   "id": "59282321-9ec0-4d56-9beb-589a638faa57",
   "metadata": {},
   "source": [
    "El método más preciso es el de la suma directa. Esto se debe a que:\n",
    "\n",
    "La suma directa mantiene la precisión al sumar términos más grandes primero, lo que minimiza la pérdida de significancia en las cifras cuando se suman términos más pequeños.\n",
    "En la suma inversa, los errores de redondeo son más propensos a afectar el resultado final debido a la naturaleza de los números involucrados."
   ]
  },
  {
   "cell_type": "markdown",
   "id": "e72dad4d-caf6-4ee8-a870-1e603aa1582d",
   "metadata": {},
   "source": [
    "## 2. Serie de Maclaurin para la función arcotangente\n",
    "\n",
    "La serie de Maclaurin para la función arcotangente converge para $$\\-1 < x \\leq 1\\$$ y está dada por:\n",
    "\n",
    "$$\n",
    "\\arctan x = \\lim_{n \\to \\infty} P_n(x) = \\lim_{n \\to \\infty} \\sum_{i=1}^{n} (-1)^{i+1} \\frac{x^{2i-1}}{2i-1}\n",
    "$$\n",
    "\n",
    "### a.\n",
    "Utilice el hecho de que $$\\tan \\frac{\\pi}{4} = 1\\ $$\n",
    "para determinar el número \\(n\\) de términos de la serie que se necesita sumar para garantizar que $$\\|4P_n(1) - \\pi| < 10^{-3}\\$$.\n",
    "\n",
    "\n"
   ]
  },
  {
   "cell_type": "markdown",
   "id": "9751549f-6dea-4aea-8822-6531091af485",
   "metadata": {},
   "source": [
    "## Pasos para resolver el problema:\n",
    "\n",
    "1. **Definir la serie de Maclaurin**\n",
    "\n",
    "    para $$ arctan(1) $$ :\n",
    "\n",
    "   Para \\( x = 1 \\), la serie se convierte en:\n",
    "\n",
    "   $$ P_n(1) = \\sum_{i=1}^n (-1)^{i+1} \\frac{1^{2i-1}}{2i-1} = \\sum_{i=1}^n (-1)^{i+1} \\frac{1}{2i-1}\n",
    "    $$\n",
    "\n",
    "   Esto se debe a que $$\\ 1^{2i-1} = 1 \\$$ para cualquier i .\n",
    "\n",
    "3. **Condición de precisión**:\n",
    "\n",
    "   La serie $$ P_n(1) $$ se multiplica por 4 para aproximar \\(\\pi\\). Entonces,  encontrar un  n tal que:\n",
    "\n",
    "  $$\n",
    "   \\left| 4 P_n(1) - \\pi \\right| < 10^{-3}\n",
    "$$\n",
    "\n",
    "5. **Cálculo de \\( n \\)**:\n",
    "\n",
    "   Utilizaremos un bucle para calcular la suma hasta que la diferencia con π sea menor a $$\\ 10^{-3} $$.\n",
    "\n",
    "\n"
   ]
  },
  {
   "cell_type": "code",
   "execution_count": 1,
   "id": "1cda4ab7-a9b9-4b0c-a01c-68907156914b",
   "metadata": {},
   "outputs": [
    {
     "name": "stdout",
     "output_type": "stream",
     "text": [
      "1000\n"
     ]
    }
   ],
   "source": [
    "\n",
    "import math\n",
    "\n",
    "def calcular_n(precision: float) -> int:\n",
    "    pi_approx = 0.0\n",
    "    n = 0\n",
    "    x = 1  # Definiendo el valor de x según el problema\n",
    "    while True:\n",
    "        n += 1\n",
    "        term = ((-1)**(n + 1)) * (x**(2 * n - 1) / (2 * n - 1))  # Término de la serie\n",
    "        pi_approx += term\n",
    "        if abs(4 * pi_approx - math.pi) < precision:\n",
    "            break\n",
    "    return n\n",
    "\n",
    "n_necesario = calcular_n(10**-3)\n",
    "print(n_necesario)\n",
    "\n",
    "\n",
    "\n",
    "\n"
   ]
  },
  {
   "cell_type": "markdown",
   "id": "e7a54b02-7771-4a19-adec-c8c3fa192fa3",
   "metadata": {},
   "source": [
    "### b.\n",
    "El lenguaje de programación C++ requiere que el valor de π se encuentre dentro de \\(10^{-10}\\). ¿Cuántos términos de la serie se necesitarían sumar para obtener este grado de precisión?\n"
   ]
  },
  {
   "cell_type": "code",
   "execution_count": null,
   "id": "d665d9a2-ea43-42a7-b303-0ec7e7473749",
   "metadata": {},
   "outputs": [],
   "source": [
    "nCplusplus=calcular_n(10**-10)\n",
    "print(nCplusplus)"
   ]
  },
  {
   "cell_type": "markdown",
   "id": "8e11829a-e999-4e36-92e0-405581f261fd",
   "metadata": {},
   "source": [
    "## 3. Otra fórmula para calcular \\(\\pi\\)\n",
    "\n",
    "Otra fórmula para calcular \\(\\pi\\) se puede deducir a partir de la identidad:\n",
    "$$\n",
    "\\frac{\\pi}{4} = 4 \\text{arctan } \\frac{1}{5} - \\text{arctan } \\frac{1}{239}\n",
    "\\$$\n",
    "Determine el número de términos que se deben sumar para garantizar una aproximación de π dentro de \\(10^{-3}\\).\n",
    "\n"
   ]
  },
  {
   "cell_type": "markdown",
   "id": "5f21bd94-a5eb-4a3c-9428-9fb4ee22a5a5",
   "metadata": {},
   "source": [
    "### Resolución del ejercicio 3\n",
    "\n",
    "#### Identidad dada:\n",
    "Se nos proporciona la siguiente identidad para calcular π:\n",
    "\n",
    "$$\n",
    "\\frac{\\pi}{4} = 4 \\arctan\\left(\\frac{1}{5}\\right) - \\arctan\\left(\\frac{1}{239}\\right)\n",
    "\\$$\n",
    "\n",
    "Esta fórmula se conoce como una fórmula de Machin para aproximar el valor de π. La idea es usar la serie de Maclaurin para \\(\\arctan(x)\\) y determinar cuántos términos debemos sumar para alcanzar una precisión de \\(10^{-3}\\).\n",
    "\n",
    "#### Serie de Maclaurin para \\(\\arctan(x)\\):\n",
    "La serie de Maclaurin para la función \\(\\arctan(x)\\) está dada por:\n",
    "\n",
    "$$\n",
    "\\arctan(x) = \\sum_{i=0}^n (-1)^i \\frac{x^{2i+1}}{2i+1}\n",
    "\\$$\n",
    "\n",
    "#### Expresión de π:\n",
    "Utilizando la identidad dada, podemos escribir la expresión para π como:\n",
    "\n",
    "$$\n",
    "\\pi \\approx 4 \\left[ 4 \\sum_{i=0}^n (-1)^i \\frac{\\left(\\frac{1}{5}\\right)^{2i+1}}{2i+1} - \\sum_{i=0}^n (-1)^i \\frac{\\left(\\frac{1}{239}\\right)^{2i+1}}{2i+1} \\right]\n",
    "\\$$\n",
    "\n",
    "Nuestro objetivo es determinar cuántos términos (\\(n\\)) debemos sumar para que el valor calculado de \\(\\pi\\) esté dentro de una precisión de \\(10^{-3}\\), es decir, cumplir con la siguiente condición:\n",
    "\n",
    "$$\n",
    "\\left|\\pi_{\\text{aprox}} - \\pi\\right| < 10^{-3}\n",
    "\\$$"
   ]
  },
  {
   "cell_type": "code",
   "execution_count": null,
   "id": "905640c5-9fd9-4ae8-92e7-2b6115310543",
   "metadata": {},
   "outputs": [],
   "source": [
    "import math\n",
    "\n",
    "def calcular_n(precision: float) -> int:\n",
    "    pi_approx = 0.0\n",
    "    n = 0\n",
    "    while True:\n",
    "        n += 1\n",
    "        term1 = ((-1) ** (n + 1)) * (1 / 5) ** (2 * n - 1) / (2 * n - 1)\n",
    "        term2 = ((-1) ** (n + 1)) * (1 / 239) ** (2 * n - 1) / (2 * n - 1)\n",
    "        \n",
    "        # Aproximación a pi usando la fórmula de Machin\n",
    "        pi_approx = 4 * (4 * term1 - term2)\n",
    "        \n",
    "        # Comprobar si la aproximación de pi cumple con la precisión requerida\n",
    "        if abs(pi_approx - math.pi) < precision:\n",
    "            break\n",
    "    return n\n",
    "\n",
    "# Determinar el número de términos necesarios para una precisión de 10^(-3)\n",
    "n_necesario = calcular_n(10**-3)\n",
    "print(f\"Número de términos necesarios: {n_necesario}\")\n"
   ]
  },
  {
   "cell_type": "markdown",
   "id": "f402425c-6388-4cbc-ad6e-d0474621656c",
   "metadata": {},
   "source": [
    "\n",
    "\n",
    "## 5. Cálculos de suma\n",
    "\n",
    "### a.\n",
    "¿Cuántas multiplicaciones y sumas se requieren para determinar una suma de la forma \n",
    "$$\\\n",
    "\\sum_{i=1}^{n} \\sum_{j=1}^{n} a_i b_j?\n",
    "\\$$\n",
    "\n",
    "\n"
   ]
  },
  {
   "cell_type": "markdown",
   "id": "39365d34-fbfb-4b27-9169-1add618a8b0b",
   "metadata": {},
   "source": [
    "### Resolución del ejercicio 5\n",
    "\n",
    "Queremos determinar cuántas multiplicaciones y sumas se requieren para calcular la siguiente expresión:\n",
    "\n",
    "\\[\n",
    "\\sum_{i=1}^n \\sum_{j=1}^i a_i b_j\n",
    "\\]\n",
    "\n",
    "#### Análisis:\n",
    "\n",
    "- **Bucle externo**: Recorre el índice \\( i \\) desde \\( 1 \\) hasta \\( n \\).\n",
    "- **Bucle interno**: Recorre el índice \\( j \\) desde \\( 1 \\) hasta \\( i \\).\n",
    "\n",
    "En cada iteración del bucle interno, se realiza una multiplicación \\( a_i \\cdot b_j \\) y luego se suma el resultado al total acumulado.\n",
    "\n",
    "#### Total de operaciones:\n",
    "\n",
    "1. **Multiplicaciones**: Para cada \\( i \\), se realizan \\( i \\) multiplicaciones, por lo que el total de multiplicaciones es:\n",
    "\n",
    "   \\[\n",
    "   1 + 2 + 3 + \\ldots + n = \\frac{n(n+1)}{2}\n",
    "   \\]\n",
    "\n",
    "2. **Sumas**: En cada iteración del bucle interno se suma el resultado de la multiplicación al total acumulado, lo que implica \\( \\frac{n(n+1)}{2} \\) sumas.\n",
    "\n",
    "#### Conclusión:\n",
    "\n",
    "Para determinar una suma de la forma \\(\\sum_{i=1}^n \\sum_{j=1}^i a_i b_j\\), se requieren:\n",
    "\n",
    "- \\(\\frac{n(n+1)}{2}\\) multiplicaciones.\n",
    "- \\(\\frac{n(n+1)}{2}\\) sumas.\n"
   ]
  },
  {
   "cell_type": "code",
   "execution_count": null,
   "id": "99388dde-8ac2-4556-bcb5-d434538033a5",
   "metadata": {},
   "outputs": [],
   "source": [
    "def contar_operaciones(n):\n",
    "    # Cálculo del número de multiplicaciones y sumas\n",
    "    num_multiplicaciones = (n * (n + 1)) // 2\n",
    "    num_sumas = num_multiplicaciones  # La cantidad de sumas es igual a la cantidad de multiplicaciones\n",
    "\n",
    "    return num_multiplicaciones, num_sumas\n",
    "\n",
    "# Ejemplo de uso\n",
    "n = 5\n",
    "multiplicaciones, sumas = contar_operaciones(n)\n",
    "print(f\"Para n = {n}:\")\n",
    "print(f\"Multiplicaciones necesarias: {multiplicaciones}\")\n",
    "print(f\"Sumas necesarias: {sumas}\")\n"
   ]
  },
  {
   "cell_type": "markdown",
   "id": "cec01e62-90da-4664-abd5-f2e0c450045c",
   "metadata": {},
   "source": [
    "### b.\n",
    "Modifique la suma en la parte a) a un formato equivalente que reduzca el número de cálculos.\n"
   ]
  },
  {
   "cell_type": "markdown",
   "id": "18709401-228a-4817-b1c0-bf7b8676e39d",
   "metadata": {},
   "source": [
    "### Resolución del ejercicio 5\n",
    "\n",
    "Queremos determinar cuántas multiplicaciones y sumas se requieren para calcular la siguiente expresión:\n",
    "\n",
    "\\[\n",
    "\\sum_{i=1}^n \\sum_{j=1}^i a_i b_j\n",
    "\\]\n",
    "\n",
    "#### Análisis:\n",
    "\n",
    "- **Bucle externo**: Recorre el índice \\( i \\) desde \\( 1 \\) hasta \\( n \\).\n",
    "- **Bucle interno**: Recorre el índice \\( j \\) desde \\( 1 \\) hasta \\( i \\).\n",
    "\n",
    "En cada iteración del bucle interno, se realiza una multiplicación \\( a_i \\cdot b_j \\) y luego se suma el resultado al total acumulado.\n",
    "\n",
    "#### Total de operaciones:\n",
    "\n",
    "1. **Multiplicaciones**: Para cada \\( i \\), se realizan \\( i \\) multiplicaciones, por lo que el total de multiplicaciones es:\n",
    "\n",
    "   \\[\n",
    "   1 + 2 + 3 + \\ldots + n = \\frac{n(n+1)}{2}\n",
    "   \\]\n",
    "\n",
    "2. **Sumas**: En cada iteración del bucle interno se suma el resultado de la multiplicación al total acumulado, lo que implica \\( \\frac{n(n+1)}{2} \\) sumas.\n",
    "\n",
    "#### Conclusión:\n",
    "\n",
    "Para determinar una suma de la forma \\(\\sum_{i=1}^n \\sum_{j=1}^i a_i b_j\\), se requieren:\n",
    "\n",
    "- \\(\\frac{n(n+1)}{2}\\) multiplicaciones.\n",
    "- \\(\\frac{n(n+1)}{2}\\) sumas.\n",
    "\n"
   ]
  },
  {
   "cell_type": "code",
   "execution_count": 3,
   "id": "2ea21338-a3b9-4dca-a47d-ea1af8ed99be",
   "metadata": {},
   "outputs": [
    {
     "name": "stdout",
     "output_type": "stream",
     "text": [
      "Para n = 5:\n",
      "Multiplicaciones necesarias: 15\n",
      "Sumas necesarias: 15\n"
     ]
    }
   ],
   "source": [
    "#### Código en Python:\n",
    "\n",
    "\n",
    "def contar_operaciones(n):\n",
    "    # Cálculo del número de multiplicaciones y sumas\n",
    "    num_multiplicaciones = (n * (n + 1)) // 2\n",
    "    num_sumas = num_multiplicaciones  # La cantidad de sumas es igual a la cantidad de multiplicaciones\n",
    "\n",
    "    return num_multiplicaciones, num_sumas\n",
    "\n",
    "# Ejemplo de uso\n",
    "n = 5\n",
    "multiplicaciones, sumas = contar_operaciones(n)\n",
    "print(f\"Para n = {n}:\")\n",
    "print(f\"Multiplicaciones necesarias: {multiplicaciones}\")\n",
    "print(f\"Sumas necesarias: {sumas}\")\n"
   ]
  },
  {
   "cell_type": "markdown",
   "id": "0627321d-a8aa-4ebc-a0b1-bf044a75d120",
   "metadata": {},
   "source": [
    "## DISCUSIONES\n",
    "\n",
    "\n",
    "### 2.\n",
    "Las ecuaciones (1.2) y (1.3) en la sección 1.2 proporcionan formas alternativas para las raíces \\(x_1\\) y \\(x_2\\) de \n",
    "\\[\n",
    "ax^2 + bx + c = 0.\n",
    "\\]\n",
    "Construya un algoritmo con entrada \\(a, b, c\\) y salida \\(x_1, x_2\\) que calcule las raíces \\(x_1\\) y \\(x_2\\) (que pueden ser iguales con conjugados complejos) mediante la mejor fórmula para cada raíz.\n",
    "\n",
    "\n"
   ]
  },
  {
   "cell_type": "code",
   "execution_count": null,
   "id": "42f27837-3cf7-4696-9ef6-8f459010f9fa",
   "metadata": {},
   "outputs": [],
   "source": []
  },
  {
   "cell_type": "code",
   "execution_count": null,
   "id": "58cbed5f-57a2-454e-bbfc-4411b1ffc24c",
   "metadata": {},
   "outputs": [],
   "source": []
  },
  {
   "cell_type": "code",
   "execution_count": null,
   "id": "3e3f21ba-71f3-4dee-a773-2242ecccf255",
   "metadata": {},
   "outputs": [],
   "source": []
  }
 ],
 "metadata": {
  "kernelspec": {
   "display_name": "Python 3 (ipykernel)",
   "language": "python",
   "name": "python3"
  },
  "language_info": {
   "codemirror_mode": {
    "name": "ipython",
    "version": 3
   },
   "file_extension": ".py",
   "mimetype": "text/x-python",
   "name": "python",
   "nbconvert_exporter": "python",
   "pygments_lexer": "ipython3",
   "version": "3.11.3"
  }
 },
 "nbformat": 4,
 "nbformat_minor": 5
}
