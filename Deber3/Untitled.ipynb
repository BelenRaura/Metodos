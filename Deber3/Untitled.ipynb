{
 "cells": [
  {
   "cell_type": "markdown",
   "id": "e34a0f2b-2127-4c8d-a88c-83061ada97fd",
   "metadata": {},
   "source": [
    "# Conjunto de Ejercicios\n",
    "\n",
    "Recuerde que debe iniciar y terminar cada ejercicio escribiendo la descripción del problema, y enfatizando la respuesta.\n",
    "\n",
    "## Ejercicio 1\n",
    "\n",
    "Use el método de bisección para encontrar soluciones precisas dentro de \\(10^{-6}\\) para \\(x^3 - 7x^2 + 14x - 6 = 0\\) en cada intervalo:  \n",
    "- a. \\([0, 1]\\)  \n",
    "\n",
    "\n",
    "\n",
    "\n"
   ]
  },
  {
   "cell_type": "code",
   "execution_count": 1,
   "id": "f6baf703-323a-4013-b060-dcf01d06c228",
   "metadata": {},
   "outputs": [
    {
     "name": "stdout",
     "output_type": "stream",
     "text": [
      "Raíz en el intervalo [0, 1]: 0.5857858657836914\n",
      "Raíz en el intervalo [1, 3.2]: 2.9999996662139896\n",
      "Raíz en el intervalo [3.2, 4]: 3.414214324951172\n"
     ]
    }
   ],
   "source": [
    "def f(x):\n",
    "    return x**3 - 7*x**2 + 14*x - 6\n",
    "\n",
    "def bisection_method(a, b, tol=1e-6):\n",
    "    if f(a) * f(b) >= 0:\n",
    "        print(\"El teorema de valor intermedio no se cumple.\")\n",
    "        return None\n",
    "    \n",
    "    while (b - a) / 2 > tol:\n",
    "        m = (a + b) / 2\n",
    "        if f(m) == 0:\n",
    "            return m\n",
    "        elif f(a) * f(m) < 0:\n",
    "            b = m\n",
    "        else:\n",
    "            a = m\n",
    "\n",
    "    return (a + b) / 2\n",
    "\n",
    "# Ejercicio 1.a: Intervalo [0, 1]\n",
    "raiz1 = bisection_method(0, 1)\n",
    "print(f\"Raíz en el intervalo [0, 1]: {raiz1}\")\n",
    "\n",
    "# Ejercicio 1.b: Intervalo [1, 3.2]\n",
    "raiz2 = bisection_method(1, 3.2)\n",
    "print(f\"Raíz en el intervalo [1, 3.2]: {raiz2}\")\n",
    "\n",
    "# Ejercicio 1.c: Intervalo [3.2, 4]\n",
    "raiz3 = bisection_method(3.2, 4)\n",
    "print(f\"Raíz en el intervalo [3.2, 4]: {raiz3}\")\n"
   ]
  },
  {
   "cell_type": "markdown",
   "id": "497ae82f-62b5-40e5-8bfd-0bdf499522c3",
   "metadata": {},
   "source": [
    "- b. \\([1, 3.2]\\)  \n",
    "- c. \\([3.2, 4]\\)  "
   ]
  },
  {
   "cell_type": "markdown",
   "id": "42569f07-66c0-46a4-8671-9fb7614b90b4",
   "metadata": {},
   "source": [
    "## Ejercicio 4\n",
    "\n",
    "1. Dibuje las gráficas para \\(y = x - 1\\) y \\(y = e^x\\).  \n",
    "   - Añada un valor aleatorio al valor de \\(x\\) de \\(0.0001234\\).  \n",
    "2. Use el método de bisección para encontrar una aproximación dentro de \\(10^{-6}\\) para un valor en \\([-2, 0]\\) con \\(x - 1 = e^x\\).\n",
    "\n",
    "\n"
   ]
  },
  {
   "cell_type": "markdown",
   "id": "30600b56-e1d7-45be-9179-2cb9be6fa06e",
   "metadata": {},
   "source": [
    "## Ejercicio 5\n",
    "\n",
    "Sea \\(f(x) = (x + 3)(x + 1)x(x - 1)(x - 3)\\). ¿En qué cero de \\(f\\) converge el método de bisección cuando se aplica en los siguientes intervalos?  \n",
    "- a. \\([-1.5, 2.5]\\)  \n",
    "\n"
   ]
  },
  {
   "cell_type": "markdown",
   "id": "e2d17cc1-77af-4b16-8e13-a7e5fff60f4a",
   "metadata": {},
   "source": [
    "# Ejercicios Aplicados\n",
    "\n",
    "## Ejercicio 1\n",
    "\n",
    "- b. \\([-0.5, 2.4]\\)  \n",
    "- c. \\([-0.5, 3]\\)  \n",
    "- d. \\([-3, -0.5]\\)  \n",
    "\n",
    "Un abrevadero de longitud \\(L\\) tiene una sección transversal en forma de semicírculo con radio \\(r\\). (Consulte la figura adjunta.) Cuando se llena con agua hasta una distancia \\(h\\) a partir de la parte superior, el volumen \\(V\\) de agua es:  \n",
    "\\[\n",
    "V = L \\left(0.5 \\pi r^2 - r^2 \\arcsen\\left(\\frac{h}{r}\\right) - h (r - h)\\right)\n",
    "\\]\n",
    "\n",
    "Suponga que \\(L = 10 \\, \\text{cm}\\), \\(r = 1 \\, \\text{cm}\\) y \\(V = 12.4 \\, \\text{cm}^3\\). Encuentre la profundidad del agua en el abrevadero dentro de \\(0.01 \\, \\text{cm}\\).\n",
    "\n",
    "\n",
    "\n"
   ]
  },
  {
   "cell_type": "markdown",
   "id": "2e53f2cf-33c6-43a5-a6d8-234515a0e68c",
   "metadata": {},
   "source": [
    "## Ejercicio 2\n",
    "\n",
    "Un objeto que cae verticalmente a través del aire está sujeto a una resistencia viscosa, así como a la fuerza de gravedad. Suponga que un objeto con masa \\(m\\) cae desde una altura \\(s\\) y que la altura del objeto después de \\(t\\) segundos es:  \n",
    "\\[\n",
    "s(t) = s - \\left( \\frac{t}{k} + \\frac{1}{k} - e^{-kt} \\right)\n",
    "\\]\n",
    "\n",
    "donde \\(g = 9.81 \\, \\text{m/s}^2\\) y \\(k\\) representa el coeficiente de la resistencia del aire en \\(\\text{Ns}/\\text{m}\\). Suponga \\(s = 300 \\, \\text{m}\\), \\(m = 0.25 \\, \\text{kg}\\) y \\(k = 0.1 \\, \\text{Ns}/\\text{m}\\). Encuentre, dentro de \\(0.01 \\, \\text{segundos}\\), el tiempo que tarda un cuarto de kg en golpear el piso.\n",
    "\n"
   ]
  },
  {
   "cell_type": "markdown",
   "id": "0db5089a-9546-4871-96ca-22cf81d9d366",
   "metadata": {},
   "source": [
    "# Ejercicios Teóricos\n",
    "\n",
    "## Ejercicio 1\n",
    "\n",
    "Use el teorema 2.1 para encontrar una cota para el número de iteraciones necesarias para lograr una aproximación con precisión de \\(10^{-6}\\) para la solución de \\(x^2 - x - 1 = 0\\) que se encuentra dentro del intervalo \\([1, 2]\\). Encuentre una aproximación para la raíz con este grado de precisión."
   ]
  }
 ],
 "metadata": {
  "kernelspec": {
   "display_name": "Python 3 (ipykernel)",
   "language": "python",
   "name": "python3"
  },
  "language_info": {
   "codemirror_mode": {
    "name": "ipython",
    "version": 3
   },
   "file_extension": ".py",
   "mimetype": "text/x-python",
   "name": "python",
   "nbconvert_exporter": "python",
   "pygments_lexer": "ipython3",
   "version": "3.11.3"
  }
 },
 "nbformat": 4,
 "nbformat_minor": 5
}
